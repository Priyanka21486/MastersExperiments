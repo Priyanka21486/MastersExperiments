{
 "cells": [
  {
   "cell_type": "markdown",
   "id": "002bed47-e853-4c9d-a877-225367f1c2fb",
   "metadata": {},
   "source": [
    "## Dataset Prep"
   ]
  },
  {
   "cell_type": "code",
   "execution_count": 24,
   "id": "e9614d46-5358-4dfa-a3ad-a91293270461",
   "metadata": {},
   "outputs": [],
   "source": [
    "ied_path = \"Datasets/IIITH-IED\"\n",
    "sep_path = \"Datasets/SEP28K\""
   ]
  },
  {
   "cell_type": "code",
   "execution_count": 25,
   "id": "831297a4-9139-42c7-aad5-c50c0f1a3af6",
   "metadata": {},
   "outputs": [],
   "source": [
    "from pathlib import Path\n",
    "import os\n",
    "\n",
    "def get_ied_filled_pauses():\n",
    "    paths = []\n",
    "    for wav_path in Path(ied_path).rglob(\"*.wav\"):\n",
    "        tag = wav_path.stem\n",
    "        tag = tag[tag.find(\"_\") + 1: ]\n",
    "        if tag in ['F', 'F2', 'F3', 'F4']:\n",
    "            paths.append(str(wav_path))\n",
    "    return paths\n",
    "\n",
    "def get_sep_filled_pauses():\n",
    "    return [str(path) for path in Path(os.path.join(sep_path, \"Interjection\")).iterdir()]"
   ]
  },
  {
   "cell_type": "code",
   "execution_count": 26,
   "id": "cc741775-15d9-44e6-8d21-0e3428e4b8ed",
   "metadata": {},
   "outputs": [
    {
     "data": {
      "text/plain": [
       "868"
      ]
     },
     "execution_count": 26,
     "metadata": {},
     "output_type": "execute_result"
    }
   ],
   "source": [
    "ied_data = get_ied_filled_pauses()\n",
    "len(ied_data)"
   ]
  },
  {
   "cell_type": "code",
   "execution_count": 27,
   "id": "a3e49d8c-5cbf-4fb9-b8fc-ec9038d787e1",
   "metadata": {},
   "outputs": [
    {
     "data": {
      "text/plain": [
       "5187"
      ]
     },
     "execution_count": 27,
     "metadata": {},
     "output_type": "execute_result"
    }
   ],
   "source": [
    "sep_data = get_sep_filled_pauses()\n",
    "len(sep_data)"
   ]
  },
  {
   "cell_type": "markdown",
   "id": "5562fa03-825a-4f0f-bb4f-c78f83c37238",
   "metadata": {},
   "source": [
    "## Feature Extraction"
   ]
  },
  {
   "cell_type": "code",
   "execution_count": 28,
   "id": "5f51b0b9-8def-44ab-b5dc-aed3c4cf7d95",
   "metadata": {},
   "outputs": [],
   "source": [
    "import librosa\n",
    "from prosody import get_prosody_features\n",
    "# import python_speech_features as psf\n",
    "from tqdm import tqdm\n",
    "\n",
    "def get_features(wav, fs):\n",
    "    # feats = psf.mfcc(wav, samplerate=fs, numcep=13, winlen=0.02)\n",
    "    feats = get_prosody_features(wav, fs)\n",
    "    return feats\n",
    "\n",
    "def get_features_from_paths(paths):\n",
    "    features = []\n",
    "    for path in tqdm(paths):\n",
    "        wav, fs = librosa.load(path)\n",
    "        features.append({\n",
    "            'path': path,\n",
    "            'features': get_features(wav, fs),\n",
    "            'length': wav.shape[0] / fs\n",
    "        })\n",
    "    return features"
   ]
  },
  {
   "cell_type": "code",
   "execution_count": 29,
   "id": "c446f78b-0885-4a85-a980-9cf887b32b73",
   "metadata": {},
   "outputs": [
    {
     "name": "stderr",
     "output_type": "stream",
     "text": [
      "100%|████████████████████████████████████████████████████████████████████████████████████████████████████████████████████████████████████████████████████████████████████████████| 868/868 [13:59<00:00,  1.03it/s]\n"
     ]
    }
   ],
   "source": [
    "ied_feats = get_features_from_paths(ied_data)"
   ]
  },
  {
   "cell_type": "code",
   "execution_count": null,
   "id": "f288b233-1666-4e49-9683-3e59d7875c06",
   "metadata": {},
   "outputs": [],
   "source": [
    "sep_feats = get_features_from_paths(sep_data)"
   ]
  },
  {
   "cell_type": "code",
   "execution_count": 8,
   "id": "fa352916-732b-4666-aedd-a2da077d25e2",
   "metadata": {},
   "outputs": [],
   "source": [
    "import pickle as pkl\n",
    "\n",
    "with open(\"feature_dump\", 'wb') as f:\n",
    "    pkl.dump({\n",
    "        'ied_feats': ied_feats,\n",
    "        'sep_feats': sep_feats\n",
    "    }, f)"
   ]
  },
  {
   "cell_type": "code",
   "execution_count": 6,
   "id": "e85eee2d-cab2-4910-a745-2109e6809d6e",
   "metadata": {},
   "outputs": [],
   "source": [
    "import pickle as pkl\n",
    "\n",
    "with open(\"feature_dump\", 'rb') as f:\n",
    "    data = pkl.load(f)\n",
    "    ied_feats = data['ied_feats']\n",
    "    sep_feats = data['sep_feats']"
   ]
  },
  {
   "cell_type": "markdown",
   "id": "892f791e-a64d-48cf-b881-57db3d786d53",
   "metadata": {},
   "source": [
    "## Filtering"
   ]
  },
  {
   "cell_type": "code",
   "execution_count": 7,
   "id": "f388559c-a135-4dce-b338-4c23e061fc53",
   "metadata": {},
   "outputs": [
    {
     "name": "stdout",
     "output_type": "stream",
     "text": [
      "9143.999773242635 868\n"
     ]
    }
   ],
   "source": [
    "ied_length = 0\n",
    "for ied in ied_feats:\n",
    "    ied_length += ied['length']\n",
    "print(ied_length, len(ied_feats))"
   ]
  },
  {
   "cell_type": "code",
   "execution_count": 8,
   "id": "7ce0f45b-ef31-4930-bd96-51e58f000eb4",
   "metadata": {},
   "outputs": [
    {
     "name": "stdout",
     "output_type": "stream",
     "text": [
      "9144.0 3047\n"
     ]
    }
   ],
   "source": [
    "sep_length = 0\n",
    "for ind, sep in enumerate(sep_feats):\n",
    "    sep_length += sep['length']\n",
    "    if sep_length > ied_length:\n",
    "        break\n",
    "sep_feats = sep_feats[: ind]\n",
    "print(sep_length, len(sep_feats))"
   ]
  },
  {
   "cell_type": "code",
   "execution_count": 19,
   "id": "54323e00-f3fa-48e3-8fc3-f22ddcf80c5e",
   "metadata": {},
   "outputs": [],
   "source": [
    "def get_audio_pair(path):\n",
    "    features = get_features_from_paths([path])[0]['features']\n",
    "    if path.find(ied_path) >= 0:\n",
    "        labels = np.full((features.shape[0], ), 0)\n",
    "    else:\n",
    "        labels = np.full((features.shape[0], ), 1)\n",
    "    return features, labels"
   ]
  },
  {
   "cell_type": "markdown",
   "id": "7373e80c-37be-4e39-96af-0d179412b24b",
   "metadata": {},
   "source": [
    "## Models"
   ]
  },
  {
   "cell_type": "code",
   "execution_count": 10,
   "id": "e514dfc0-8616-4c45-b10c-b487192fc316",
   "metadata": {},
   "outputs": [],
   "source": [
    "from sklearn.metrics import confusion_matrix, ConfusionMatrixDisplay, precision_score, recall_score, accuracy_score\n",
    "import matplotlib.pyplot as plt\n",
    "\n",
    "def conf_mat(labels_gt, labels_pred):\n",
    "    cm = confusion_matrix(labels_gt, labels_pred)\n",
    "    print(cm)\n",
    "    disp = ConfusionMatrixDisplay(confusion_matrix=cm)\n",
    "    disp.plot()\n",
    "    plt.show()\n",
    "\n",
    "def get_analysis(labels_gt, labels_pred):\n",
    "    print(\"precision\", precision_score(labels_gt, labels_pred))\n",
    "    print(\"recall\", recall_score(labels_gt, labels_pred))\n",
    "    print(\"accuracy\", accuracy_score(labels_gt, labels_pred))\n",
    "    conf_mat(labels_gt, labels_pred)"
   ]
  },
  {
   "cell_type": "code",
   "execution_count": 11,
   "id": "e2f2b681-23a7-4a52-a29f-50ba21331810",
   "metadata": {},
   "outputs": [
    {
     "name": "stdout",
     "output_type": "stream",
     "text": [
      "(20000, 13) (20000, 13) (20000,) (20000,)\n",
      "(39000, 13) (1000, 13) (39000,) (1000,)\n"
     ]
    }
   ],
   "source": [
    "import numpy as np\n",
    "from sklearn.model_selection import train_test_split\n",
    "\n",
    "ied_feats_ = np.vstack([ied['features'] for ied in ied_feats])[: 20000, :]\n",
    "sep_feats_ = np.vstack([sep['features'] for sep in sep_feats])[: 20000, :]\n",
    "ied_labels = np.full((ied_feats_.shape[0], ), 0)\n",
    "sep_labels_ = np.full((sep_feats_.shape[0], ), 1)\n",
    "print(ied_feats_.shape, sep_feats_.shape, ied_labels.shape, sep_labels_.shape)\n",
    "\n",
    "feats = np.vstack([ied_feats_, sep_feats_])\n",
    "labels = np.hstack([ied_labels, sep_labels_])\n",
    "feats_svm_train, feats_svm_test, labels_svm_train, labels_svm_test = train_test_split(feats, labels, test_size=1000)\n",
    "print(feats_svm_train.shape, feats_svm_test.shape, labels_svm_train.shape, labels_svm_test.shape)"
   ]
  },
  {
   "cell_type": "code",
   "execution_count": null,
   "id": "5ca1ba29-9ecf-4bd8-b47a-b3b789029b3e",
   "metadata": {},
   "outputs": [
    {
     "name": "stderr",
     "output_type": "stream",
     "text": [
      " 38%|██████████████████████████████████████████████████████████████████                                                                                                            | 11/29 [00:17<00:17,  1.03it/s]"
     ]
    }
   ],
   "source": [
    "from lazypredict.Supervised import LazyClassifier\n",
    "\n",
    "clf = LazyClassifier(verbose=0, ignore_warnings=True, custom_metric=None)\n",
    "models, predictions = clf.fit(feats_svm_train, feats_svm_test, labels_svm_train, labels_svm_test)\n",
    "\n",
    "print(models)"
   ]
  },
  {
   "cell_type": "code",
   "execution_count": 1,
   "id": "a40febb2-c25f-48dd-93f8-461d9f118eb5",
   "metadata": {},
   "outputs": [
    {
     "ename": "NameError",
     "evalue": "name 'feats_svm_train' is not defined",
     "output_type": "error",
     "traceback": [
      "\u001b[0;31m---------------------------------------------------------------------------\u001b[0m",
      "\u001b[0;31mNameError\u001b[0m                                 Traceback (most recent call last)",
      "Cell \u001b[0;32mIn[1], line 4\u001b[0m\n\u001b[1;32m      1\u001b[0m \u001b[38;5;28;01mfrom\u001b[39;00m \u001b[38;5;21;01msklearn\u001b[39;00m \u001b[38;5;28;01mimport\u001b[39;00m svm\n\u001b[1;32m      3\u001b[0m svm_mfcc \u001b[38;5;241m=\u001b[39m svm\u001b[38;5;241m.\u001b[39mSVC(kernel\u001b[38;5;241m=\u001b[39m\u001b[38;5;124m'\u001b[39m\u001b[38;5;124mrbf\u001b[39m\u001b[38;5;124m'\u001b[39m, C\u001b[38;5;241m=\u001b[39m\u001b[38;5;241m0.025\u001b[39m)\n\u001b[0;32m----> 4\u001b[0m svm_mfcc\u001b[38;5;241m.\u001b[39mfit(\u001b[43mfeats_svm_train\u001b[49m, labels_svm_train)\n\u001b[1;32m      5\u001b[0m \u001b[38;5;66;03m# labels_svm_pred = svm_mfcc.predict(feats_svm_train)\u001b[39;00m\n\u001b[1;32m      6\u001b[0m \u001b[38;5;66;03m# get_analysis(labels_svm_train, labels_svm_pred)\u001b[39;00m\n\u001b[1;32m      7\u001b[0m labels_svm_pred \u001b[38;5;241m=\u001b[39m svm_mfcc\u001b[38;5;241m.\u001b[39mpredict(feats_svm_test)\n",
      "\u001b[0;31mNameError\u001b[0m: name 'feats_svm_train' is not defined"
     ]
    }
   ],
   "source": [
    "from sklearn import svm\n",
    "\n",
    "svm_mfcc = svm.SVC(kernel='rbf', C=0.025)\n",
    "svm_mfcc.fit(feats_svm_train, labels_svm_train)\n",
    "# labels_svm_pred = svm_mfcc.predict(feats_svm_train)\n",
    "# get_analysis(labels_svm_train, labels_svm_pred)\n",
    "labels_svm_pred = svm_mfcc.predict(feats_svm_test)\n",
    "get_analysis(labels_svm_test, labels_svm_pred)"
   ]
  },
  {
   "cell_type": "code",
   "execution_count": 42,
   "id": "849512ca-316c-4ed0-b573-736f744f0108",
   "metadata": {},
   "outputs": [
    {
     "name": "stderr",
     "output_type": "stream",
     "text": [
      "100%|████████████████████████████████████████████████████████████████████████████████████████████████████████████████████████████████████████████████████████████████████████████████| 1/1 [00:00<00:00, 24.30it/s]\n",
      "/home2/parvathipriyanka.b/miniconda3/envs/dev/lib/python3.8/site-packages/sklearn/metrics/_classification.py:1471: UndefinedMetricWarning: Recall is ill-defined and being set to 0.0 due to no true samples. Use `zero_division` parameter to control this behavior.\n",
      "  _warn_prf(average, modifier, msg_start, len(result))\n"
     ]
    },
    {
     "name": "stdout",
     "output_type": "stream",
     "text": [
      "precision 0.0\n",
      "recall 0.0\n",
      "accuracy 0.8327759197324415\n",
      "[[249  50]\n",
      " [  0   0]]\n"
     ]
    },
    {
     "data": {
      "image/png": "[encoded data removed]",
      "text/plain": [
       "<Figure size 640x480 with 2 Axes>"
      ]
     },
     "metadata": {},
     "output_type": "display_data"
    },
    {
     "name": "stdout",
     "output_type": "stream",
     "text": [
      "[0 0 0 0 0 0 0 0 0 0 0 0 0 0 0 0 0 0 0 0 0 0 0 0 0 0 0 0 0 0 0 0 0 0 0 0 0\n",
      " 0 0 0 0 0 0 0 0 0 0 0 0 0 0 0 0 0 0 0 0 0 0 0 0 0 0 0 0 0 0 0 0 0 0 0 0 0\n",
      " 0 0 0 0 0 0 0 0 0 0 0 0 0 0 0 0 0 0 0 0 0 0 0 0 0 0]\n",
      "[0 0 0 0 0 0 0 0 0 0 0 0 0 0 0 0 0 0 0 0 0 0 0 0 0 0 0 0 0 0 0 0 0 0 0 0 0\n",
      " 0 0 0 0 0 0 0 1 0 0 0 0 0 1 1 1 1 0 1 1 0 0 1 0 0 1 0 1 1 1 1 1 0 0 0 0 0\n",
      " 1 0 0 0 0 0 0 0 0 0 0 1 1 0 0 0 1 1 0 0 0 0 0 0 0 1]\n"
     ]
    }
   ],
   "source": [
    "# f_, l_ = get_audio_pair(\"/home2/parvathipriyanka.b/ssp23/Datasets/IIITH-IED/data/28/28_F.wav\")\n",
    "f_, l_ = get_audio_pair(\"/home2/parvathipriyanka.b/ssp23/Datasets/SEP28K/Interjection/WomenWhoStutter_16_11.wav\")\n",
    "lp_ = svm_mfcc.predict(f_)\n",
    "get_analysis(l_, lp_)\n",
    "print(l_[:100])\n",
    "print(lp_[:100])"
   ]
  },
  {
   "cell_type": "code",
   "execution_count": 12,
   "id": "23606ba2-1ca9-45ae-80e7-abf3710640d2",
   "metadata": {},
   "outputs": [
    {
     "name": "stdout",
     "output_type": "stream",
     "text": [
      "precision 0.9461206896551724\n",
      "recall 0.9014373716632443\n",
      "accuracy 0.927\n",
      "[[488  25]\n",
      " [ 48 439]]\n"
     ]
    },
    {
     "data": {
      "image/png": "[encoded data removed]",
      "text/plain": [
       "<Figure size 640x480 with 2 Axes>"
      ]
     },
     "metadata": {},
     "output_type": "display_data"
    }
   ],
   "source": [
    "from sklearn.ensemble import RandomForestClassifier\n",
    "\n",
    "rand_mfcc = RandomForestClassifier(random_state=5)\n",
    "rand_mfcc.fit(feats_svm_train, labels_svm_train)\n",
    "labels_svm_pred = rand_mfcc.predict(feats_svm_test)\n",
    "get_analysis(labels_svm_test, labels_svm_pred)"
   ]
  },
  {
   "cell_type": "code",
   "execution_count": 13,
   "id": "464c43b3-c7d6-469b-8338-521d5643245c",
   "metadata": {},
   "outputs": [
    {
     "name": "stderr",
     "output_type": "stream",
     "text": [
      "2023-11-20 13:08:03.450517: I tensorflow/core/platform/cpu_feature_guard.cc:182] This TensorFlow binary is optimized to use available CPU instructions in performance-critical operations.\n",
      "To enable the following instructions: AVX2 FMA, in other operations, rebuild TensorFlow with the appropriate compiler flags.\n",
      "2023-11-20 13:08:17.136921: W tensorflow/compiler/tf2tensorrt/utils/py_utils.cc:38] TF-TRT Warning: Could not find TensorRT\n"
     ]
    }
   ],
   "source": [
    "import tensorflow as tf\n",
    "import keras\n",
    "from keras.layers import Input, Dense\n",
    "from keras.models import Sequential\n",
    "\n",
    "def create_dense_nn(inp_shape):\n",
    "    model = Sequential()\n",
    "    model.add(Input(shape=(inp_shape, )))\n",
    "    model.add(Dense(30, activation='sigmoid'))\n",
    "    model.add(Dense(20, activation='sigmoid'))\n",
    "    model.add(Dense(10, activation='sigmoid'))\n",
    "    model.add(Dense(1, activation='sigmoid'))\n",
    "    opt = tf.keras.optimizers.SGD(learning_rate=0.01)\n",
    "    model.compile(optimizer=opt, loss='binary_crossentropy', metrics=['accuracy'])\n",
    "    return model"
   ]
  },
  {
   "cell_type": "code",
   "execution_count": 14,
   "id": "6567a635-29e7-483b-9720-c4c0906021c8",
   "metadata": {},
   "outputs": [
    {
     "name": "stderr",
     "output_type": "stream",
     "text": [
      "2023-11-20 13:08:33.111772: W tensorflow/core/common_runtime/gpu/gpu_device.cc:1960] Cannot dlopen some GPU libraries. Please make sure the missing libraries mentioned above are installed properly if you would like to use GPU. Follow the guide at https://www.tensorflow.org/install/gpu for how to download and setup the required libraries for your platform.\n",
      "Skipping registering GPU devices...\n"
     ]
    },
    {
     "name": "stdout",
     "output_type": "stream",
     "text": [
      "Model: \"sequential\"\n",
      "_________________________________________________________________\n",
      " Layer (type)                Output Shape              Param #   \n",
      "=================================================================\n",
      " dense (Dense)               (None, 30)                420       \n",
      "                                                                 \n",
      " dense_1 (Dense)             (None, 20)                620       \n",
      "                                                                 \n",
      " dense_2 (Dense)             (None, 10)                210       \n",
      "                                                                 \n",
      " dense_3 (Dense)             (None, 1)                 11        \n",
      "                                                                 \n",
      "=================================================================\n",
      "Total params: 1261 (4.93 KB)\n",
      "Trainable params: 1261 (4.93 KB)\n",
      "Non-trainable params: 0 (0.00 Byte)\n",
      "_________________________________________________________________\n",
      "None\n",
      "Epoch 1/25\n",
      "610/610 [==============================] - 1s 1ms/step - loss: 0.7073 - accuracy: 0.4932\n",
      "Epoch 2/25\n",
      "610/610 [==============================] - 1s 1ms/step - loss: 0.6918 - accuracy: 0.5427\n",
      "Epoch 3/25\n",
      "610/610 [==============================] - 1s 2ms/step - loss: 0.6891 - accuracy: 0.6190\n",
      "Epoch 4/25\n",
      "610/610 [==============================] - 1s 2ms/step - loss: 0.6860 - accuracy: 0.6660\n",
      "Epoch 5/25\n",
      "610/610 [==============================] - 1s 2ms/step - loss: 0.6820 - accuracy: 0.7148\n",
      "Epoch 6/25\n",
      "610/610 [==============================] - 1s 1ms/step - loss: 0.6762 - accuracy: 0.7344\n",
      "Epoch 7/25\n",
      "610/610 [==============================] - 1s 2ms/step - loss: 0.6673 - accuracy: 0.7389\n",
      "Epoch 8/25\n",
      "610/610 [==============================] - 1s 1ms/step - loss: 0.6539 - accuracy: 0.7505\n",
      "Epoch 9/25\n",
      "610/610 [==============================] - 1s 1ms/step - loss: 0.6341 - accuracy: 0.7566\n",
      "Epoch 10/25\n",
      "610/610 [==============================] - 1s 2ms/step - loss: 0.6067 - accuracy: 0.7612\n",
      "Epoch 11/25\n",
      "610/610 [==============================] - 1s 2ms/step - loss: 0.5739 - accuracy: 0.7665\n",
      "Epoch 12/25\n",
      "610/610 [==============================] - 1s 2ms/step - loss: 0.5417 - accuracy: 0.7713\n",
      "Epoch 13/25\n",
      "610/610 [==============================] - 1s 2ms/step - loss: 0.5156 - accuracy: 0.7751\n",
      "Epoch 14/25\n",
      "610/610 [==============================] - 1s 2ms/step - loss: 0.4963 - accuracy: 0.7798\n",
      "Epoch 15/25\n",
      "610/610 [==============================] - 1s 1ms/step - loss: 0.4815 - accuracy: 0.7833\n",
      "Epoch 16/25\n",
      "610/610 [==============================] - 1s 1ms/step - loss: 0.4692 - accuracy: 0.7888\n",
      "Epoch 17/25\n",
      "610/610 [==============================] - 1s 1ms/step - loss: 0.4588 - accuracy: 0.7929\n",
      "Epoch 18/25\n",
      "610/610 [==============================] - 1s 1ms/step - loss: 0.4492 - accuracy: 0.7988\n",
      "Epoch 19/25\n",
      "610/610 [==============================] - 1s 1ms/step - loss: 0.4401 - accuracy: 0.8031\n",
      "Epoch 20/25\n",
      "610/610 [==============================] - 1s 1ms/step - loss: 0.4318 - accuracy: 0.8083\n",
      "Epoch 21/25\n",
      "610/610 [==============================] - 1s 1ms/step - loss: 0.4235 - accuracy: 0.8131\n",
      "Epoch 22/25\n",
      "610/610 [==============================] - 1s 1ms/step - loss: 0.4152 - accuracy: 0.8196\n",
      "Epoch 23/25\n",
      "610/610 [==============================] - 1s 1ms/step - loss: 0.4076 - accuracy: 0.8229\n",
      "Epoch 24/25\n",
      "610/610 [==============================] - 1s 2ms/step - loss: 0.4007 - accuracy: 0.8277\n",
      "Epoch 25/25\n",
      "610/610 [==============================] - 1s 2ms/step - loss: 0.3946 - accuracy: 0.8304\n"
     ]
    },
    {
     "data": {
      "text/plain": [
       "<keras.src.callbacks.History at 0x14eedc08e0a0>"
      ]
     },
     "execution_count": 14,
     "metadata": {},
     "output_type": "execute_result"
    }
   ],
   "source": [
    "neural_mfcc = create_dense_nn(13)\n",
    "print(neural_mfcc.summary())\n",
    "neural_mfcc.fit(feats_svm_train, labels_svm_train, epochs=25, batch_size=64)"
   ]
  },
  {
   "cell_type": "code",
   "execution_count": 15,
   "id": "96b99afd-50d1-453e-b0b8-e77af379fca8",
   "metadata": {},
   "outputs": [
    {
     "name": "stdout",
     "output_type": "stream",
     "text": [
      "32/32 [==============================] - 0s 1ms/step\n",
      "precision 0.8431771894093686\n",
      "recall 0.8501026694045175\n",
      "accuracy 0.85\n",
      "[[436  77]\n",
      " [ 73 414]]\n"
     ]
    },
    {
     "data": {
      "image/png": "[encoded data removed]",
      "text/plain": [
       "<Figure size 640x480 with 2 Axes>"
      ]
     },
     "metadata": {},
     "output_type": "display_data"
    }
   ],
   "source": [
    "labels_svm_pred = (neural_mfcc.predict(feats_svm_test) > 0.5).astype(\"int16\")\n",
    "get_analysis(labels_svm_test, labels_svm_pred)"
   ]
  },
  {
   "cell_type": "code",
   "execution_count": 23,
   "id": "156142b9-0304-471b-8e1b-8e13926cfe89",
   "metadata": {},
   "outputs": [
    {
     "name": "stderr",
     "output_type": "stream",
     "text": [
      "100%|████████████████████████████████████████████████████████████████████████████████████████████████████████████████████████████████████████████████████████████████████████████████| 1/1 [00:00<00:00, 15.81it/s]"
     ]
    },
    {
     "name": "stdout",
     "output_type": "stream",
     "text": [
      "39/39 [==============================] - 0s 1ms/step\n"
     ]
    },
    {
     "name": "stderr",
     "output_type": "stream",
     "text": [
      "\n",
      "/home2/parvathipriyanka.b/miniconda3/envs/dev/lib/python3.8/site-packages/sklearn/metrics/_classification.py:1471: UndefinedMetricWarning: Recall is ill-defined and being set to 0.0 due to no true samples. Use `zero_division` parameter to control this behavior.\n",
      "  _warn_prf(average, modifier, msg_start, len(result))\n"
     ]
    },
    {
     "name": "stdout",
     "output_type": "stream",
     "text": [
      "precision 0.0\n",
      "recall 0.0\n",
      "accuracy 0.2797716150081566\n",
      "[[343 883]\n",
      " [  0   0]]\n"
     ]
    },
    {
     "data": {
      "image/png": "[encoded data removed]",
      "text/plain": [
       "<Figure size 640x480 with 2 Axes>"
      ]
     },
     "metadata": {},
     "output_type": "display_data"
    },
    {
     "name": "stdout",
     "output_type": "stream",
     "text": [
      "[0 0 0 0 0 0 0 0 0 0 0 0 0 0 0 0 0 0 0 0 0 0 0 0 0 0 0 0 0 0 0 0 0 0 0 0 0\n",
      " 0 0 0 0 0 0 0 0 0 0 0 0 0 0 0 0 0 0 0 0 0 0 0 0 0 0 0 0 0 0 0 0 0 0 0 0 0\n",
      " 0 0 0 0 0 0 0 0 0 0 0 0 0 0 0 0 0 0 0 0 0 0 0 0 0 0]\n",
      "[[1]\n",
      " [1]\n",
      " [0]\n",
      " [1]\n",
      " [1]\n",
      " [1]\n",
      " [0]\n",
      " [1]\n",
      " [1]\n",
      " [1]\n",
      " [1]\n",
      " [1]\n",
      " [1]\n",
      " [1]\n",
      " [1]\n",
      " [1]\n",
      " [1]\n",
      " [1]\n",
      " [1]\n",
      " [1]\n",
      " [1]\n",
      " [1]\n",
      " [1]\n",
      " [1]\n",
      " [1]\n",
      " [1]\n",
      " [1]\n",
      " [1]\n",
      " [1]\n",
      " [1]\n",
      " [1]\n",
      " [1]\n",
      " [1]\n",
      " [1]\n",
      " [1]\n",
      " [1]\n",
      " [1]\n",
      " [1]\n",
      " [1]\n",
      " [1]\n",
      " [1]\n",
      " [1]\n",
      " [1]\n",
      " [1]\n",
      " [1]\n",
      " [1]\n",
      " [1]\n",
      " [1]\n",
      " [1]\n",
      " [1]\n",
      " [1]\n",
      " [1]\n",
      " [1]\n",
      " [1]\n",
      " [1]\n",
      " [0]\n",
      " [1]\n",
      " [1]\n",
      " [1]\n",
      " [1]\n",
      " [1]\n",
      " [0]\n",
      " [1]\n",
      " [0]\n",
      " [0]\n",
      " [0]\n",
      " [0]\n",
      " [0]\n",
      " [0]\n",
      " [0]\n",
      " [0]\n",
      " [0]\n",
      " [0]\n",
      " [0]\n",
      " [0]\n",
      " [0]\n",
      " [0]\n",
      " [1]\n",
      " [1]\n",
      " [0]\n",
      " [1]\n",
      " [1]\n",
      " [0]\n",
      " [1]\n",
      " [0]\n",
      " [0]\n",
      " [0]\n",
      " [1]\n",
      " [1]\n",
      " [1]\n",
      " [0]\n",
      " [0]\n",
      " [0]\n",
      " [0]\n",
      " [1]\n",
      " [1]\n",
      " [1]\n",
      " [1]\n",
      " [1]\n",
      " [0]]\n"
     ]
    }
   ],
   "source": [
    "f_, l_ = get_audio_pair(\"/home2/parvathipriyanka.b/ssp23/Datasets/IIITH-IED/data/28/28_F.wav\")\n",
    "# f_, l_ = get_audio_pair(\"/home2/parvathipriyanka.b/ssp23/Datasets/SEP28K/Interjection/WomenWhoStutter_16_11.wav\")\n",
    "lp_ = (neural_mfcc.predict(f_) > 0.5).astype(\"int16\")\n",
    "get_analysis(l_, lp_)\n",
    "print(l_[:100])\n",
    "print(lp_[:100])"
   ]
  },
  {
   "cell_type": "code",
   "execution_count": null,
   "id": "072873b3-dc29-42a6-9521-d18d3ab6cccd",
   "metadata": {},
   "outputs": [],
   "source": []
  }
 ],
 "metadata": {
  "kernelspec": {
   "display_name": "Python 3 (ipykernel)",
   "language": "python",
   "name": "python3"
  },
  "language_info": {
   "codemirror_mode": {
    "name": "ipython",
    "version": 3
   },
   "file_extension": ".py",
   "mimetype": "text/x-python",
   "name": "python",
   "nbconvert_exporter": "python",
   "pygments_lexer": "ipython3",
   "version": "3.8.18"
  }
 },
 "nbformat": 4,
 "nbformat_minor": 5
}
